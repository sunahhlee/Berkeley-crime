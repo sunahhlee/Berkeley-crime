{
 "cells": [
  {
   "cell_type": "code",
   "execution_count": 92,
   "metadata": {},
   "outputs": [],
   "source": [
    "import numpy as np\n",
    "import pandas as pd\n",
    "import geopandas as gpd\n",
    "import folium\n",
    "from shapely.geometry import Point, LineString, Polygon, box"
   ]
  },
  {
   "cell_type": "code",
   "execution_count": 93,
   "metadata": {},
   "outputs": [],
   "source": [
    "bpd = pd.read_csv('berkeleypd.csv')"
   ]
  },
  {
   "cell_type": "code",
   "execution_count": 94,
   "metadata": {},
   "outputs": [
    {
     "name": "stdout",
     "output_type": "stream",
     "text": [
      "(455, 11)\n",
      "439\n",
      "(439, 11)\n"
     ]
    }
   ],
   "source": [
    "# get data set with selected crimes\n",
    "combined = bpd[(bpd['CVLEGEND'] == 'ASSAULT') | (bpd['CVLEGEND'] == 'ROBBERY')]\n",
    "print(combined.shape)\n",
    "\n",
    "# drop any entries without a location\n",
    "count = 0\n",
    "for i in combined.index:\n",
    "    if '(' in combined.loc[i,'Block_Location']:\n",
    "        count = count + 1\n",
    "    else:\n",
    "        combined = combined.drop(i)\n",
    "        \n",
    "print(count)\n",
    "print(combined.shape)"
   ]
  },
  {
   "cell_type": "code",
   "execution_count": 95,
   "metadata": {},
   "outputs": [],
   "source": [
    "# get lat/long coordinates\n",
    "# you can skip the Point section if you're not mapping!!\n",
    "for i in combined.index:\n",
    "    combined.loc[i,'LatLon'] = combined.loc[i,'Block_Location'][combined.loc[i,'Block_Location'].find(\"(\")+1:combined.loc[i,'Block_Location'].rfind(\")\")]\n",
    "    combined.loc[i,'Lat'] = float(combined.loc[i,'LatLon'][0:combined.loc[i,'LatLon'].find(',')])\n",
    "    combined.loc[i,'Lon'] = float(combined.loc[i,'LatLon'][combined.loc[i,'LatLon'].find(',')+2:])\n",
    "    \n",
    "geometry = [Point(xy) for xy in zip(combined['Lon'], combined['Lat'])]\n",
    "combined['geometry'] = geometry\n",
    "combined_gpd = gpd.GeoDataFrame(combined)"
   ]
  },
  {
   "cell_type": "code",
   "execution_count": 96,
   "metadata": {},
   "outputs": [],
   "source": [
    "def generateBaseMap(default_location=[37.8721, -122.2578], default_zoom_start=12):\n",
    "    base_map = folium.Map(location=default_location, control_scale=True, zoom_start=default_zoom_start)\n",
    "    return base_map"
   ]
  },
  {
   "cell_type": "code",
   "execution_count": 97,
   "metadata": {},
   "outputs": [
    {
     "data": {
      "text/html": [
       "<div style=\"width:100%;\"><div style=\"position:relative;width:100%;height:0;padding-bottom:60%;\"><iframe src=\"data:text/html;charset=utf-8;base64,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\" style=\"position:absolute;width:100%;height:100%;left:0;top:0;border:none !important;\" allowfullscreen webkitallowfullscreen mozallowfullscreen></iframe></div></div>"
      ],
      "text/plain": [
       "<folium.folium.Map at 0x1256e6be0>"
      ]
     },
     "execution_count": 97,
     "metadata": {},
     "output_type": "execute_result"
    }
   ],
   "source": [
    "base_map = generateBaseMap()\n",
    "base_map"
   ]
  },
  {
   "cell_type": "code",
   "execution_count": 98,
   "metadata": {},
   "outputs": [],
   "source": [
    "combined_gpd['EVENTDT'] = pd.to_datetime(combined_gpd['EVENTDT'], format='%m/%d/%y %H:%M')\n",
    "combined_gpd['EVENTTM'] = pd.to_datetime(combined_gpd['EVENTTM'], format='%H:%M')"
   ]
  },
  {
   "cell_type": "code",
   "execution_count": 99,
   "metadata": {},
   "outputs": [],
   "source": [
    "combined_gpd['month'] = combined_gpd['EVENTDT'].apply(lambda x: x.month)\n",
    "combined_gpd['week'] = combined_gpd['EVENTDT'].apply(lambda x: x.week)\n",
    "combined_gpd['day'] = combined_gpd['EVENTDT'].apply(lambda x: x.day)\n",
    "combined_gpd['hour'] = combined_gpd['EVENTTM'].apply(lambda x: x.hour)"
   ]
  },
  {
   "cell_type": "code",
   "execution_count": 100,
   "metadata": {},
   "outputs": [],
   "source": [
    "combined_gpd['count'] = [1] * combined_gpd.shape[0]"
   ]
  },
  {
   "cell_type": "code",
   "execution_count": 101,
   "metadata": {},
   "outputs": [
    {
     "data": {
      "text/plain": [
       "<folium.plugins.heat_map.HeatMap at 0x10df215c0>"
      ]
     },
     "execution_count": 101,
     "metadata": {},
     "output_type": "execute_result"
    }
   ],
   "source": [
    "from folium.plugins import HeatMap\n",
    "combined_gpd['count'] = 1\n",
    "base_map = generateBaseMap()\n",
    "HeatMap(data=combined_gpd[['Lat', 'Lon', 'count']].groupby(['Lat', 'Lon']).sum().reset_index().values.tolist(), radius=8, max_zoom=13).add_to(base_map)"
   ]
  },
  {
   "cell_type": "code",
   "execution_count": 102,
   "metadata": {},
   "outputs": [
    {
     "data": {
      "text/html": [
       "<div style=\"width:100%;\"><div style=\"position:relative;width:100%;height:0;padding-bottom:60%;\"><iframe src=\"data:text/html;charset=utf-8;base64,PCFET0NUWVBFIGh0bWw+CjxoZWFkPiAgICAKICAgIDxtZXRhIGh0dHAtZXF1aXY9ImNvbnRlbnQtdHlwZSIgY29udGVudD0idGV4dC9odG1sOyBjaGFyc2V0PVVURi04IiAvPgogICAgCiAgICAgICAgPHNjcmlwdD4KICAgICAgICAgICAgTF9OT19UT1VDSCA9IGZhbHNlOwogICAgICAgICAgICBMX0RJU0FCTEVfM0QgPSBmYWxzZTsKICAgICAgICA8L3NjcmlwdD4KICAgIAogICAgPHNjcmlwdCBzcmM9Imh0dHBzOi8vY2RuLmpzZGVsaXZyLm5ldC9ucG0vbGVhZmxldEAxLjUuMS9kaXN0L2xlYWZsZXQuanMiPjwvc2NyaXB0PgogICAgPHNjcmlwdCBzcmM9Imh0dHBzOi8vY29kZS5qcXVlcnkuY29tL2pxdWVyeS0xLjEyLjQubWluLmpzIj48L3NjcmlwdD4KICAgIDxzY3JpcHQgc3JjPSJodHRwczovL21heGNkbi5ib290c3RyYXBjZG4uY29tL2Jvb3RzdHJhcC8zLjIuMC9qcy9ib290c3RyYXAubWluLmpzIj48L3NjcmlwdD4KICAgIDxzY3JpcHQgc3JjPSJodHRwczovL2NkbmpzLmNsb3VkZmxhcmUuY29tL2FqYXgvbGlicy9MZWFmbGV0LmF3ZXNvbWUtbWFya2Vycy8yLjAuMi9sZWFmbGV0LmF3ZXNvbWUtbWFya2Vycy5qcyI+PC9zY3JpcHQ+CiAgICA8bGluayByZWw9InN0eWxlc2hlZXQiIGhyZWY9Imh0dHBzOi8vY2RuLmpzZGVsaXZyLm5ldC9ucG0vbGVhZmxldEAxLjUuMS9kaXN0L2xlYWZsZXQuY3NzIi8+CiAgICA8bGluayByZWw9InN0eWxlc2hlZXQiIGhyZWY9Imh0dHBzOi8vbWF4Y2RuLmJvb3RzdHJhcGNkbi5jb20vYm9vdHN0cmFwLzMuMi4wL2Nzcy9ib290c3RyYXAubWluLmNzcyIvPgogICAgPGxpbmsgcmVsPSJzdHlsZXNoZWV0IiBocmVmPSJodHRwczovL21heGNkbi5ib290c3RyYXBjZG4uY29tL2Jvb3RzdHJhcC8zLjIuMC9jc3MvYm9vdHN0cmFwLXRoZW1lLm1pbi5jc3MiLz4KICAgIDxsaW5rIHJlbD0ic3R5bGVzaGVldCIgaHJlZj0iaHR0cHM6Ly9tYXhjZG4uYm9vdHN0cmFwY2RuLmNvbS9mb250LWF3ZXNvbWUvNC42LjMvY3NzL2ZvbnQtYXdlc29tZS5taW4uY3NzIi8+CiAgICA8bGluayByZWw9InN0eWxlc2hlZXQiIGhyZWY9Imh0dHBzOi8vY2RuanMuY2xvdWRmbGFyZS5jb20vYWpheC9saWJzL0xlYWZsZXQuYXdlc29tZS1tYXJrZXJzLzIuMC4yL2xlYWZsZXQuYXdlc29tZS1tYXJrZXJzLmNzcyIvPgogICAgPGxpbmsgcmVsPSJzdHlsZXNoZWV0IiBocmVmPSJodHRwczovL3Jhd2Nkbi5naXRoYWNrLmNvbS9weXRob24tdmlzdWFsaXphdGlvbi9mb2xpdW0vbWFzdGVyL2ZvbGl1bS90ZW1wbGF0ZXMvbGVhZmxldC5hd2Vzb21lLnJvdGF0ZS5jc3MiLz4KICAgIDxzdHlsZT5odG1sLCBib2R5IHt3aWR0aDogMTAwJTtoZWlnaHQ6IDEwMCU7bWFyZ2luOiAwO3BhZGRpbmc6IDA7fTwvc3R5bGU+CiAgICA8c3R5bGU+I21hcCB7cG9zaXRpb246YWJzb2x1dGU7dG9wOjA7Ym90dG9tOjA7cmlnaHQ6MDtsZWZ0OjA7fTwvc3R5bGU+CiAgICAKICAgICAgICAgICAgPG1ldGEgbmFtZT0idmlld3BvcnQiIGNvbnRlbnQ9IndpZHRoPWRldmljZS13aWR0aCwKICAgICAgICAgICAgICAgIGluaXRpYWwtc2NhbGU9MS4wLCBtYXhpbXVtLXNjYWxlPTEuMCwgdXNlci1zY2FsYWJsZT1ubyIgLz4KICAgICAgICAgICAgPHN0eWxlPgogICAgICAgICAgICAgICAgI21hcF83OTA0MmQzOThlNDI0ZjIwYmY1MWZkYWFmODM0YWNhZCB7CiAgICAgICAgICAgICAgICAgICAgcG9zaXRpb246IHJlbGF0aXZlOwogICAgICAgICAgICAgICAgICAgIHdpZHRoOiAxMDAuMCU7CiAgICAgICAgICAgICAgICAgICAgaGVpZ2h0OiAxMDAuMCU7CiAgICAgICAgICAgICAgICAgICAgbGVmdDogMC4wJTsKICAgICAgICAgICAgICAgICAgICB0b3A6IDAuMCU7CiAgICAgICAgICAgICAgICB9CiAgICAgICAgICAgIDwvc3R5bGU+CiAgICAgICAgCiAgICA8c2NyaXB0IHNyYz0iaHR0cHM6Ly9sZWFmbGV0LmdpdGh1Yi5pby9MZWFmbGV0LmhlYXQvZGlzdC9sZWFmbGV0LWhlYXQuanMiPjwvc2NyaXB0Pgo8L2hlYWQ+Cjxib2R5PiAgICAKICAgIAogICAgICAgICAgICA8ZGl2IGNsYXNzPSJmb2xpdW0tbWFwIiBpZD0ibWFwXzc5MDQyZDM5OGU0MjRmMjBiZjUxZmRhYWY4MzRhY2FkIiA+PC9kaXY+CiAgICAgICAgCjwvYm9keT4KPHNjcmlwdD4gICAgCiAgICAKICAgICAgICAgICAgdmFyIG1hcF83OTA0MmQzOThlNDI0ZjIwYmY1MWZkYWFmODM0YWNhZCA9IEwubWFwKAogICAgICAgICAgICAgICAgIm1hcF83OTA0MmQzOThlNDI0ZjIwYmY1MWZkYWFmODM0YWNhZCIsCiAgICAgICAgICAgICAgICB7CiAgICAgICAgICAgICAgICAgICAgY2VudGVyOiBbMzcuODcyMSwgLTEyMi4yNTc4XSwKICAgICAgICAgICAgICAgICAgICBjcnM6IEwuQ1JTLkVQU0czODU3LAogICAgICAgICAgICAgICAgICAgIHpvb206IDEyLAogICAgICAgICAgICAgICAgICAgIHpvb21Db250cm9sOiB0cnVlLAogICAgICAgICAgICAgICAgICAgIHByZWZlckNhbnZhczogZmFsc2UsCiAgICAgICAgICAgICAgICB9CiAgICAgICAgICAgICk7CiAgICAgICAgICAgIEwuY29udHJvbC5zY2FsZSgpLmFkZFRvKG1hcF83OTA0MmQzOThlNDI0ZjIwYmY1MWZkYWFmODM0YWNhZCk7CgogICAgICAgICAgICAKCiAgICAgICAgCiAgICAKICAgICAgICAgICAgdmFyIHRpbGVfbGF5ZXJfNWJhYTViY2RmMGVkNDAzNjkxOTk5MTYwMjlkZGMwNGIgPSBMLnRpbGVMYXllcigKICAgICAgICAgICAgICAgICJodHRwczovL3tzfS50aWxlLm9wZW5zdHJlZXRtYXAub3JnL3t6fS97eH0ve3l9LnBuZyIsCiAgICAgICAgICAgICAgICB7ImF0dHJpYnV0aW9uIjogIkRhdGEgYnkgXHUwMDI2Y29weTsgXHUwMDNjYSBocmVmPVwiaHR0cDovL29wZW5zdHJlZXRtYXAub3JnXCJcdTAwM2VPcGVuU3RyZWV0TWFwXHUwMDNjL2FcdTAwM2UsIHVuZGVyIFx1MDAzY2EgaHJlZj1cImh0dHA6Ly93d3cub3BlbnN0cmVldG1hcC5vcmcvY29weXJpZ2h0XCJcdTAwM2VPRGJMXHUwMDNjL2FcdTAwM2UuIiwgImRldGVjdFJldGluYSI6IGZhbHNlLCAibWF4TmF0aXZlWm9vbSI6IDE4LCAibWF4Wm9vbSI6IDE4LCAibWluWm9vbSI6IDAsICJub1dyYXAiOiBmYWxzZSwgIm9wYWNpdHkiOiAxLCAic3ViZG9tYWlucyI6ICJhYmMiLCAidG1zIjogZmFsc2V9CiAgICAgICAgICAgICkuYWRkVG8obWFwXzc5MDQyZDM5OGU0MjRmMjBiZjUxZmRhYWY4MzRhY2FkKTsKICAgICAgICAKICAgIAogICAgICAgICAgICB2YXIgaGVhdF9tYXBfYjI4Yzg5MWQ3MTVhNDUzMGJlNWM5NjIyM2E1YzliNTAgPSBMLmhlYXRMYXllcigKICAgICAgICAgICAgICAgIFtbMzcuODQ2NDA0LCAtMTIyLjI3NTI2MywgMS4wXSwgWzM3Ljg0NjY5NCwgLTEyMi4yNzMxOTEsIDEuMF0sIFszNy44NDgxNTIsIC0xMjIuMjc1ODA3LCAyLjBdLCBbMzcuODQ4MjkyLCAtMTIyLjI3MTc3MywgMi4wXSwgWzM3Ljg0ODQ1MywgLTEyMi4yNzM2MDcsIDIuMF0sIFszNy44NDg3NTIsIC0xMjIuMjcxMzMxLCA0LjBdLCBbMzcuODQ5NDMxLCAtMTIyLjI3ODE3NCwgMS4wXSwgWzM3Ljg0OTY3NSwgLTEyMi4yNzExNDksIDEuMF0sIFszNy44NTAzODUsIC0xMjIuMjcwODk3LCAzLjBdLCBbMzcuODUwNTg4LCAtMTIyLjI3MTQ3MSwgMS4wXSwgWzM3Ljg1MDY4MSwgLTEyMi4yNzA2MTksIDEuMF0sIFszNy44NTA4OTksIC0xMjIuMjc2MTc0LCAxLjBdLCBbMzcuODUxNDc3LCAtMTIyLjI3ODY1MSwgMS4wXSwgWzM3Ljg1MTkxOSwgLTEyMi4yODY2NjcsIDIuMF0sIFszNy44NTIzMDQsIC0xMjIuMjcwMDQ1LCAyLjBdLCBbMzcuODUyNDIyLCAtMTIyLjI3ODU3MSwgMS4wXSwgWzM3Ljg1MjcyNCwgLTEyMi4yNjM5OTEsIDEuMF0sIFszNy44NTM0MjYsIC0xMjIuMjY5NDYzLCAxLjBdLCBbMzcuODUzNDQsIC0xMjIuMjY5MTgyLCAxLjBdLCBbMzcuODUzNTc2LCAtMTIyLjI4NzIwMiwgMi4wXSwgWzM3Ljg1MzYzOCwgLTEyMi4yODk1ODgsIDIuMF0sIFszNy44NTM2NjUsIC0xMjIuMjUyNzE1LCAxLjBdLCBbMzcuODUzODYxLCAtMTIyLjI2NTk4LCAxLjBdLCBbMzcuODUzODk2LCAtMTIyLjI1MjczOSwgMS4wXSwgWzM3Ljg1Mzk1MSwgLTEyMi4yNzMxOTgsIDEuMF0sIFszNy44NTQxNDgsIC0xMjIuMjg4NTk3LCAxLjBdLCBbMzcuODU0MjY1LCAtMTIyLjI3MTEzMywgMS4wXSwgWzM3Ljg1NDQ0MiwgLTEyMi4yNzcxMDcsIDEuMF0sIFszNy44NTQ1MjEsIC0xMjIuMjcxMTY3LCAxLjBdLCBbMzcuODU0ODMzLCAtMTIyLjI3OTgzOSwgMS4wXSwgWzM3Ljg1NDg4LCAtMTIyLjI2OTA3OSwgMy4wXSwgWzM3Ljg1NDksIC0xMjIuMjc5NDUsIDIuMF0sIFszNy44NTUwMjYsIC0xMjIuMjY2NDc1LCAzLjBdLCBbMzcuODU1MjUsIC0xMjIuMjc3MTI2LCAzLjBdLCBbMzcuODU1Mjk0LCAtMTIyLjI5MjQ3NSwgMS4wXSwgWzM3Ljg1NTQzNSwgLTEyMi4yNTk4NDEsIDEuMF0sIFszNy44NTU2ODQsIC0xMjIuMjYzNDkxLCAxLjBdLCBbMzcuODU1NzkzLCAtMTIyLjI4MTQ5MywgMS4wXSwgWzM3Ljg1NTgyNCwgLTEyMi4yNDcxMTYsIDEuMF0sIFszNy44NTU4MywgLTEyMi4yNzMzOSwgMS4wXSwgWzM3Ljg1NTgzNCwgLTEyMi4yNjIzNDYsIDEuMF0sIFszNy44NTU5NTQsIC0xMjIuMjU0MDIyLCAxLjBdLCBbMzcuODU1OTk4LCAtMTIyLjI3MTI3OCwgMi4wXSwgWzM3Ljg1NjA3OCwgLTEyMi4yNzkzMTEsIDEuMF0sIFszNy44NTYxMTEsIC0xMjIuMjYwMjQ4LCA0LjBdLCBbMzcuODU2MTIxLCAtMTIyLjI2ODc2LCAxLjBdLCBbMzcuODU2NTI4LCAtMTIyLjI2ODI5NywgMS4wXSwgWzM3Ljg1Njk0OCwgLTEyMi4yOTMwMTQsIDEuMF0sIFszNy44NTc0NTIsIC0xMjIuMjU5NTQ4LCAxLjBdLCBbMzcuODU3OTUxLCAtMTIyLjI3MTQ5NCwgMS4wXSwgWzM3Ljg1ODExNiwgLTEyMi4yNjgwMDIsIDMuMF0sIFszNy44NTgxNjUsIC0xMjIuMjU1Njg3LCAxLjBdLCBbMzcuODU4MjE0LCAtMTIyLjI2OTI1MiwgMS4wXSwgWzM3Ljg1ODM1NiwgLTEyMi4yNTMxNzksIDEuMF0sIFszNy44NTgzOTIsIC0xMjIuMjc1NDIxLCAxLjBdLCBbMzcuODU4NjczLCAtMTIyLjI3MzM2NSwgMS4wXSwgWzM3Ljg1ODg1NiwgLTEyMi4yNzE1OTIsIDEuMF0sIFszNy44NTkwMDYsIC0xMjIuMjc3ODc0LCAxLjBdLCBbMzcuODU5MzA5LCAtMTIyLjI1OTI5MSwgMS4wXSwgWzM3Ljg1OTUzOSwgLTEyMi4yNTkxNzIsIDEuMF0sIFszNy44NTk1NTcsIC0xMjIuMjk3MzMsIDEuMF0sIFszNy44NTk2NjUsIC0xMjIuMjcxNjksIDEuMF0sIFszNy44NTk5ODgsIC0xMjIuMjUzMzM5LCAyLjBdLCBbMzcuODYwMDE3LCAtMTIyLjI2OTQzLCAxLjBdLCBbMzcuODYwMTg5LCAtMTIyLjI5NDA0OCwgMS4wXSwgWzM3Ljg2MDQ1OSwgLTEyMi4yNjYxMzksIDEuMF0sIFszNy44NjA3MTgsIC0xMjIuMjQ1OTg4LCAxLjBdLCBbMzcuODYwNzMyLCAtMTIyLjI5MTM2OSwgMS4wXSwgWzM3Ljg2MDc2NiwgLTEyMi4yNTU4OTUsIDMuMF0sIFszNy44NjEyMDQsIC0xMjIuMjg4NzUyLCAxLjBdLCBbMzcuODYxMjgzLCAtMTIyLjI3MzkxMSwgMS4wXSwgWzM3Ljg2MTI4NSwgLTEyMi4yNTk5NzksIDEuMF0sIFszNy44NjEzMTMsIC0xMjIuMjk3ODk0LCAxLjBdLCBbMzcuODYxNTExLCAtMTIyLjI5NjgxLCAxLjBdLCBbMzcuODYxNTQxLCAtMTIyLjI1MTE1NiwgMS4wXSwgWzM3Ljg2MTU3MywgLTEyMi4yNTc0NTIsIDIuMF0sIFszNy44NjE2MjcsIC0xMjIuMjg1NDY2LCAxLjBdLCBbMzcuODYxNjQ1LCAtMTIyLjI1MzUwOCwgMS4wXSwgWzM3Ljg2MTY1MywgLTEyMi4yNzg1MjksIDEuMF0sIFszNy44NjE2NjEsIC0xMjIuMjU2MTY5LCAxLjBdLCBbMzcuODYxOTQ0LCAtMTIyLjI5NDYwNywgMS4wXSwgWzM3Ljg2MjAyNCwgLTEyMi4yNTEyMTIsIDEuMF0sIFszNy44NjIwNTksIC0xMjIuMjgxMTY3LCAxLjBdLCBbMzcuODYyMzIxLCAtMTIyLjI1ODg3MiwgMS4wXSwgWzM3Ljg2MjMzNCwgLTEyMi4yNjQ4MjgsIDEuMF0sIFszNy44NjI3NjMsIC0xMjIuMjYyNjM5LCAxLjBdLCBbMzcuODYyNzcsIC0xMjIuMjk3MjE4LCAxLjBdLCBbMzcuODYyNzgxLCAtMTIyLjI2OTM3NiwgMS4wXSwgWzM3Ljg2Mjg3NywgLTEyMi4yOTAwNTUsIDEuMF0sIFszNy44NjI5MzgsIC0xMjIuMjc0MzUyLCAxLjBdLCBbMzcuODYzMDUzLCAtMTIyLjI2NzMyMSwgMS4wXSwgWzM3Ljg2MzE0MywgLTEyMi4yNjY2ODEsIDEuMF0sIFszNy44NjMyNzIsIC0xMjIuMjU4NjU2LCAxLjBdLCBbMzcuODYzMjgsIC0xMjIuMjk3MzgzLCAxLjBdLCBbMzcuODYzMzY4LCAtMTIyLjI5NjkyMSwgMS4wXSwgWzM3Ljg2MzM2OSwgLTEyMi4yNTc2MjIsIDIuMF0sIFszNy44NjM1OTgsIC0xMjIuMjUzNjkzLCAxLjBdLCBbMzcuODYzNjc5LCAtMTIyLjI2OTYzMSwgMy4wXSwgWzM3Ljg2Mzk0NSwgLTEyMi4yOTQwODYsIDEuMF0sIFszNy44NjM5NzcsIC0xMjIuMjY3MzA3LCAyLjBdLCBbMzcuODY0MDEzLCAtMTIyLjI1MjU5LCAxLjBdLCBbMzcuODY0MTczLCAtMTIyLjI1ODYxNiwgMS4wXSwgWzM3Ljg2NDIzOCwgLTEyMi4yNjUyNjMsIDIuMF0sIFszNy44NjQzNDYsIC0xMjIuMjkxODQzLCAxLjBdLCBbMzcuODY0NTM1LCAtMTIyLjI2Mjk5MywgMS4wXSwgWzM3Ljg2NDgyNiwgLTEyMi4yNjA3MTksIDIuMF0sIFszNy44NjQ4MjcsIC0xMjIuMjU4NTc3LCA0LjBdLCBbMzcuODY0ODcyLCAtMTIyLjI3NDU4NywgMS4wXSwgWzM3Ljg2NDkwOCwgLTEyMi4yNjcyODksIDEuMF0sIFszNy44NjUxMjEsIC0xMjIuMjU4NDU1LCAyLjBdLCBbMzcuODY1MTM0LCAtMTIyLjI1ODMzMSwgMy4wXSwgWzM3Ljg2NTIwMiwgLTEyMi4yNTc3OTUsIDIuMF0sIFszNy44NjUzNDksIC0xMjIuMjgzNzcsIDEuMF0sIFszNy44NjU0MiwgLTEyMi4yNTYxOCwgMi4wXSwgWzM3Ljg2NTUxMSwgLTEyMi4zMDk5NjcsIDEuMF0sIFszNy44NjU1MzUsIC0xMjIuMjU1MjM1LCAxLjBdLCBbMzcuODY1NzI5LCAtMTIyLjI2MDkwMywgMS4wXSwgWzM3Ljg2NTc3MiwgLTEyMi4yNjc2NDMsIDcuMF0sIFszNy44NjU5NDUsIC0xMjIuMjUwNDcxLCAyLjBdLCBbMzcuODY2MDIyLCAtMTIyLjI2MDk2MSwgMS4wXSwgWzM3Ljg2NjAzNywgLTEyMi4yNjU2MTgsIDEuMF0sIFszNy44NjYyNTMsIC0xMjIuMjk5NDgzLCAzLjBdLCBbMzcuODY2MjkzLCAtMTIyLjMwNTUxLCAxLjBdLCBbMzcuODY2MzI3LCAtMTIyLjI2MzM1OSwgMS4wXSwgWzM3Ljg2NjQwNCwgLTEyMi4yNzcwNDMsIDEuMF0sIFszNy44NjY2MjIsIC0xMjIuMjYxMDgsIDMuMF0sIFszNy44NjY3NjEsIC0xMjIuMjU4Nzc5LCA3LjBdLCBbMzcuODY2OTM2LCAtMTIyLjI5NjIxOCwgMy4wXSwgWzM3Ljg2Njk1LCAtMTIyLjI4Njk4NCwgMS4wXSwgWzM3Ljg2NzE3NiwgLTEyMi4yNjc4MDIsIDMuMF0sIFszNy44NjcyMDksIC0xMjIuMjU2NTU0LCAxLjBdLCBbMzcuODY3MjIxLCAtMTIyLjI2MzUzMSwgMS4wXSwgWzM3Ljg2NzI5MSwgLTEyMi4yNzAyNDUsIDEuMF0sIFszNy44NjczMDcsIC0xMjIuMzAwNDY4LCAxLjBdLCBbMzcuODY3MzgzLCAtMTIyLjI5MzkzOCwgMS4wXSwgWzM3Ljg2NzM5MiwgLTEyMi4yNjIyMTQsIDEuMF0sIFszNy44Njc1MDEsIC0xMjIuMjkxNzA5LCAzLjBdLCBbMzcuODY3NTEzLCAtMTIyLjI2MTI3LCA3LjBdLCBbMzcuODY3NTEzLCAtMTIyLjI1MTk1LCAxLjBdLCBbMzcuODY3NzEsIC0xMjIuMjk4NDY2LCAzLjBdLCBbMzcuODY3ODE2LCAtMTIyLjI1ODk5NCwgMi4wXSwgWzM3Ljg2NzgyMiwgLTEyMi4yNjYwMDMsIDEuMF0sIFszNy44Njc4NTIsIC0xMjIuMjU4Njk5LCA3LjBdLCBbMzcuODY3OTcyLCAtMTIyLjI2MzY5OSwgMS4wXSwgWzM3Ljg2ODEwMywgLTEyMi4yNTY3MiwgMy4wXSwgWzM3Ljg2ODE5OSwgLTEyMi4yNjMyNTMsIDIuMF0sIFszNy44NjgyMDQsIC0xMjIuMjcwMDU0LCAzLjBdLCBbMzcuODY4MzY2LCAtMTIyLjI5NTUwOCwgMS4wXSwgWzM3Ljg2ODQyNCwgLTEyMi4yNjE0NTEsIDEuMF0sIFszNy44Njg0NDcsIC0xMjIuMjYxMjY4LCAyLjBdLCBbMzcuODY4NDg5LCAtMTIyLjI2Nzk1LCAyLjBdLCBbMzcuODY4NTEyLCAtMTIyLjI2NzgxLCAxLjBdLCBbMzcuODY4NTMyLCAtMTIyLjI3NDc2NCwgMi4wXSwgWzM3Ljg2ODU3NCwgLTEyMi4yNzA0MTUsIDEuMF0sIFszNy44Njg2LCAtMTIyLjI4OTM4NSwgMS4wXSwgWzM3Ljg2ODY0MSwgLTEyMi4yOTQxNSwgMS4wXSwgWzM3Ljg2ODY2NywgLTEyMi4zMTM2NTYsIDEuMF0sIFszNy44Njg2ODIsIC0xMjIuMjcyNjkxLCAxLjBdLCBbMzcuODY4NzE0LCAtMTIyLjI1OTE4OSwgOC4wXSwgWzM3Ljg2ODcyMiwgLTEyMi4yNTkxMjMsIDEuMF0sIFszNy44Njg3ODUsIC0xMjIuMjcyNzAxLCAzLjBdLCBbMzcuODY4ODE1LCAtMTIyLjI5MjEzMSwgMS4wXSwgWzM3Ljg2ODg3OCwgLTEyMi4zMDAyODQsIDEuMF0sIFszNy44Njg5MTMsIC0xMjIuMjg2MDgsIDEuMF0sIFszNy44Njg5MjMsIC0xMjIuMzAzOTk0LCAxLjBdLCBbMzcuODY4OTU3LCAtMTIyLjI1NDU1MiwgMy4wXSwgWzM3Ljg2OTA0MSwgLTEyMi4yOTIyMDQsIDIuMF0sIFszNy44NjkwNjcsIC0xMjIuMjkyMDQzLCA0LjBdLCBbMzcuODY5MDg0LCAtMTIyLjI5OTI0NSwgMS4wXSwgWzM3Ljg2OTEwNSwgLTEyMi4yNzAwNjQsIDIuMF0sIFszNy44NjkzMzIsIC0xMjIuMjUwMTksIDEuMF0sIFszNy44NjkzNjMsIC0xMjIuMjY4MDI4LCAxMC4wXSwgWzM3Ljg2OTM4NSwgLTEyMi4yODk1MywgMS4wXSwgWzM3Ljg2OTM5LCAtMTIyLjI2Nzg4MywgMy4wXSwgWzM3Ljg2OTY4NSwgLTEyMi4yNzI4MDQsIDEuMF0sIFszNy44Njk2ODgsIC0xMjIuMjcyODA1LCAzLjBdLCBbMzcuODY5ODg4LCAtMTIyLjMwMDYxOCwgMS4wXSwgWzM3Ljg2OTkyMSwgLTEyMi4yOTQ4MjUsIDEuMF0sIFszNy44Njk5NzMsIC0xMjIuMjcwNTU3LCAyLjBdLCBbMzcuODcwMDExLCAtMTIyLjMxNzksIDEuMF0sIFszNy44NzAwNTQsIC0xMjIuMjg0MjYzLCA0LjBdLCBbMzcuODcwMjA1LCAtMTIyLjI5MjU4MSwgNC4wXSwgWzM3Ljg3MDI0MywgLTEyMi4yNzUxNDksIDEuMF0sIFszNy44NzAzMDgsIC0xMjIuMjY4MDUsIDUuMF0sIFszNy44NzAzOTYsIC0xMjIuMjgxNTg1LCAxLjBdLCBbMzcuODcwNjAzLCAtMTIyLjI3MDYxMiwgMy4wXSwgWzM3Ljg3MDYyNywgLTEyMi4yNzk3NjUsIDEuMF0sIFszNy44NzA2NTIsIC0xMjIuMjc5NTgsIDEuMF0sIFszNy44NzA5MSwgLTEyMi4yNjU5OTMsIDMuMF0sIFszNy44NzA5NDgsIC0xMjIuMjc3MzMsIDUuMF0sIFszNy44NzExNjcsIC0xMjIuMjY4Mjg1LCA5LjBdLCBbMzcuODcxMTY4LCAtMTIyLjI4MjEyOCwgMS4wXSwgWzM3Ljg3MTI0NiwgLTEyMi4yNzQ5OTEsIDYuMF0sIFszNy44NzEyNjUsIC0xMjIuMjk1MDQzLCAxLjBdLCBbMzcuODcxMzE3LCAtMTIyLjI4NjU3NSwgMi4wXSwgWzM3Ljg3MTU4NCwgLTEyMi4yODQ0OTcsIDEuMF0sIFszNy44NzE2MDUsIC0xMjIuMjczMDE4LCAxLjBdLCBbMzcuODcxNjg5LCAtMTIyLjI5Mjg5OCwgMS4wXSwgWzM3Ljg3MTgyOCwgLTEyMi4yNzA1MTYsIDMuMF0sIFszNy44NzE4ODMsIC0xMjIuMzAxMjU1LCAzLjBdLCBbMzcuODcyMTc1LCAtMTIyLjI2NzgzNSwgMS4wXSwgWzM3Ljg3MjE4NSwgLTEyMi4yNjg0MDcsIDEuMF0sIFszNy44NzI1OTksIC0xMjIuMzAzODg5LCAyLjBdLCBbMzcuODcyNjU2LCAtMTIyLjI5Mjc0OCwgMS4wXSwgWzM3Ljg3MjcyNSwgLTEyMi4yNzc3MjksIDEuMF0sIFszNy44NzI5OTIsIC0xMjIuMjk1ODAxLCAyLjBdLCBbMzcuODczMzI3LCAtMTIyLjI3MzIxNCwgMS4wXSwgWzM3Ljg3MzM0MywgLTEyMi4yODAwODYsIDEuMF0sIFszNy44NzM2MzksIC0xMjIuMjcwNjQsIDEuMF0sIFszNy44NzM2ODcsIC0xMjIuMjY4NjE2LCA2LjBdLCBbMzcuODc0MTMsIC0xMjIuMjY2MzYsIDEuMF0sIFszNy44NzQyMDMsIC0xMjIuMjczMzA4LCAxLjBdLCBbMzcuODc0MjcxLCAtMTIyLjI2NTM5MSwgMS4wXSwgWzM3Ljg3NDQ4OSwgLTEyMi4yNzEwNzIsIDEuMF0sIFszNy44NzQ1NTcsIC0xMjIuMjc3OTM2LCAxLjBdLCBbMzcuODc0ODAyLCAtMTIyLjI5NjE1LCAxLjBdLCBbMzcuODc1NTA1LCAtMTIyLjI5ODc5NywgMS4wXSwgWzM3Ljg3NTUyNSwgLTEyMi4yNTY4MTQsIDEuMF0sIFszNy44NzU4NjUsIC0xMjIuMjYxNzQ5LCAxLjBdLCBbMzcuODc2MDg0LCAtMTIyLjI4MDEwNSwgMS4wXSwgWzM3Ljg3NjI5NywgLTEyMi4yNzEyNCwgMS4wXSwgWzM3Ljg3NjcyOSwgLTEyMi4yNjc4MDQsIDEuMF0sIFszNy44NzY4OTcsIC0xMjIuMjg4NjgsIDEuMF0sIFszNy44NzczMjQsIC0xMjIuMjYyNjY2LCAxLjBdLCBbMzcuODc3MzkzLCAtMTIyLjMwMTkxOCwgMS4wXSwgWzM3Ljg3NzY2MywgLTEyMi4yNzQ4MzEsIDEuMF0sIFszNy44Nzc3OTMsIC0xMjIuMjYwNzA5LCAxLjBdLCBbMzcuODc4MDI0LCAtMTIyLjMwNzk4LCAxLjBdLCBbMzcuODc4NDIzLCAtMTIyLjI2OTAyMywgMS4wXSwgWzM3Ljg3ODQ2MSwgLTEyMi4zMDU3ODgsIDEuMF0sIFszNy44Nzg1NTIsIC0xMjIuMjY2ODQ0LCAxLjBdLCBbMzcuODc4NzEzLCAtMTIyLjI2Njg1NSwgMS4wXSwgWzM3Ljg3ODk3MywgLTEyMi4yNzkzNjYsIDEuMF0sIFszNy44Nzg5ODYsIC0xMjIuMjc3MjMxLCAxLjBdLCBbMzcuODc5MTQ3LCAtMTIyLjI2MzQ2MiwgMS4wXSwgWzM3Ljg3OTY3OSwgLTEyMi4yNzM2MzgsIDEuMF0sIFszNy44Nzk3NzMsIC0xMjIuMzA2MjMsIDEuMF0sIFszNy44Nzk3OTksIC0xMjIuMjk5MTg3LCAyLjBdLCBbMzcuODc5OTY4LCAtMTIyLjI5Njg4NSwgMS4wXSwgWzM3Ljg4MDE0LCAtMTIyLjI5NzQ5OCwgMy4wXSwgWzM3Ljg4MDIyNywgLTEyMi4yNjkzNiwgMi4wXSwgWzM3Ljg4MDQ2OCwgLTEyMi4yOTU4NzYsIDEuMF0sIFszNy44ODA1MTksIC0xMjIuMjY3MDUxLCAzLjBdLCBbMzcuODgwNTUsIC0xMjIuMzA0OTYyLCAzLjBdLCBbMzcuODgwODAzLCAtMTIyLjI3NDAwNSwgMi4wXSwgWzM3Ljg4MDg3NiwgLTEyMi4yNjAzMjIsIDEuMF0sIFszNy44ODE0MzUsIC0xMjIuMjg5OTk0LCAyLjBdLCBbMzcuODgxNjk0LCAtMTIyLjI5OTc5MSwgMS4wXSwgWzM3Ljg4MTk1NywgLTEyMi4yNjk1NTEsIDQuMF0sIFszNy44ODIwNzEsIC0xMjIuMjgxMTYxLCAxLjBdLCBbMzcuODgyMzUzLCAtMTIyLjI2NzEzNiwgMS4wXSwgWzM3Ljg4Mjk0MywgLTEyMi4yNzkzODMsIDEuMF0sIFszNy44ODMwNzIsIC0xMjIuMjkxMTY4LCAxLjBdLCBbMzcuODgzNjg0LCAtMTIyLjI2NzQ4NSwgMi4wXSwgWzM3Ljg4NTc0NCwgLTEyMi4yNzgwMTcsIDEuMF0sIFszNy44ODYwODYsIC0xMjIuMjY2NTczLCAxLjBdLCBbMzcuODg2NDAxLCAtMTIyLjI1MTg3NywgMS4wXSwgWzM3Ljg5MTE0NCwgLTEyMi4yODM0NTgsIDEuMF0sIFszNy44OTEyMTQsIC0xMjIuMjgyMTU4LCAxLjBdLCBbMzcuODkxMjYsIC0xMjIuMjgxMzc1LCAxLjBdLCBbMzcuODkxMzMyLCAtMTIyLjI3OTk3NSwgMS4wXSwgWzM3Ljg5MzQ0OCwgLTEyMi4yNzIxMzcsIDEuMF0sIFszNy44OTQ4MzYsIC0xMjIuMjY4NTE2LCAxLjBdXSwKICAgICAgICAgICAgICAgIHsiYmx1ciI6IDE1LCAibWF4IjogMS4wLCAibWF4Wm9vbSI6IDEzLCAibWluT3BhY2l0eSI6IDAuNSwgInJhZGl1cyI6IDh9CiAgICAgICAgICAgICkuYWRkVG8obWFwXzc5MDQyZDM5OGU0MjRmMjBiZjUxZmRhYWY4MzRhY2FkKTsKICAgICAgICAKPC9zY3JpcHQ+\" style=\"position:absolute;width:100%;height:100%;left:0;top:0;border:none !important;\" allowfullscreen webkitallowfullscreen mozallowfullscreen></iframe></div></div>"
      ],
      "text/plain": [
       "<folium.folium.Map at 0x124816668>"
      ]
     },
     "execution_count": 102,
     "metadata": {},
     "output_type": "execute_result"
    }
   ],
   "source": [
    "base_map"
   ]
  },
  {
   "cell_type": "code",
   "execution_count": 104,
   "metadata": {},
   "outputs": [],
   "source": [
    "base_map.add_child(folium.ClickForMarker(popup='Potential Location'))\n",
    "base_map\n",
    "\n"
   ]
  },
  {
   "cell_type": "markdown",
   "metadata": {},
   "source": [
    "# Heatmaps with time... \n",
    "Animation doesn't work...."
   ]
  },
  {
   "cell_type": "code",
   "execution_count": 83,
   "metadata": {},
   "outputs": [],
   "source": [
    "map_hooray = folium.Map(location=[37.8721, -122.2578], zoom_start = 13) \n",
    "# Ensure you're handing it floats\n",
    "combined_gpd['Lat'] = combined_gpd['Lat'].astype(float)\n",
    "combined_gpd['Lon'] = combined_gpd['Lon'].astype(float)\n",
    "heat_df = combined_gpd[['Lat', 'Lon']]\n",
    "# Create weight column, using date\n",
    "heat_df['Weight'] = combined_gpd['hour']\n",
    "heat_df['Weight'] = heat_df['Weight'].astype(float)\n",
    "heat_df = heat_df.dropna(axis=0, subset=['Lat','Lon', 'Weight'])\n",
    "from folium import plugins\n",
    "\n",
    "# List comprehension to make out list of lists\n",
    "heat_data = [[[row['Lat'],row['Lon']] for index, row in heat_df[heat_df['Weight'] == i].iterrows()] for i in range(0,13)]\n",
    "\n",
    "# Plot it on the map\n",
    "hm = plugins.HeatMapWithTime(heat_data,auto_play=True,max_opacity=0.8)\n",
    "hm.add_to(map_hooray)\n",
    "# Display the map\n",
    "map_hooray"
   ]
  }
 ],
 "metadata": {
  "kernelspec": {
   "display_name": "Python 3",
   "language": "python",
   "name": "python3"
  },
  "language_info": {
   "codemirror_mode": {
    "name": "ipython",
    "version": 3
   },
   "file_extension": ".py",
   "mimetype": "text/x-python",
   "name": "python",
   "nbconvert_exporter": "python",
   "pygments_lexer": "ipython3",
   "version": "3.7.3"
  }
 },
 "nbformat": 4,
 "nbformat_minor": 4
}
